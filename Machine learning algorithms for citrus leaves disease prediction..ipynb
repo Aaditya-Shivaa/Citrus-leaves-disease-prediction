{
 "cells": [
  {
   "cell_type": "code",
   "execution_count": 1,
   "id": "0b552122",
   "metadata": {},
   "outputs": [
    {
     "name": "stdout",
     "output_type": "stream",
     "text": [
      "['black spot', 'canker', 'greening', 'healthy', 'melanose']\n"
     ]
    }
   ],
   "source": [
    "import numpy as np\n",
    "import pylab as pl\n",
    "import pandas as pd\n",
    "import matplotlib.pyplot as plt \n",
    "%matplotlib inline\n",
    "import seaborn as sns\n",
    "from sklearn.utils import shuffle\n",
    "from sklearn.svm import SVC\n",
    "from sklearn.metrics import confusion_matrix,classification_report\n",
    "from sklearn.model_selection import cross_val_score, GridSearchCV\n",
    "from sklearn.model_selection import RandomizedSearchCV\n",
    "from sklearn.ensemble import RandomForestRegressor\n",
    "import os\n",
    "print(os.listdir(\"C:/Users/Admin/OneDrive/Desktop/leaves28\"))"
   ]
  },
  {
   "cell_type": "code",
   "execution_count": 23,
   "id": "66103056",
   "metadata": {},
   "outputs": [],
   "source": [
    "import pandas as pd\n",
    "from sklearn.model_selection import train_test_split\n",
    "from sklearn.metrics import accuracy_score\n",
    "\n",
    "# Load the data from the CSV file\n",
    "data = pd.read_csv('leaf__data.csv')\n",
    "\n",
    "# Separate the features (X) from the labels (y)\n",
    "X = data.drop('disease', axis=1)\n",
    "y = data['disease']\n",
    "\n",
    "# Split the data into training and testing sets\n",
    "X_train, X_test, y_train, y_test = train_test_split(X, y, test_size=0.2, random_state=42)\n",
    "\n"
   ]
  },
  {
   "cell_type": "code",
   "execution_count": 27,
   "id": "21f33b9a",
   "metadata": {},
   "outputs": [],
   "source": [
    "from sklearn.preprocessing import LabelEncoder\n",
    "lb=LabelEncoder()\n",
    "y_train=lb.fit_transform(y_train)\n",
    "y_test=lb.fit_transform(y_test)\n"
   ]
  },
  {
   "cell_type": "code",
   "execution_count": 28,
   "id": "051ee07c",
   "metadata": {},
   "outputs": [],
   "source": [
    "from sklearn.model_selection import KFold\n",
    "kfold_validation=KFold(10)"
   ]
  },
  {
   "cell_type": "markdown",
   "id": "e1fce289",
   "metadata": {},
   "source": [
    "# LSVM"
   ]
  },
  {
   "cell_type": "code",
   "execution_count": 29,
   "id": "505fa991",
   "metadata": {},
   "outputs": [
    {
     "name": "stdout",
     "output_type": "stream",
     "text": [
      "Accuracy: 86.93181818181817\n"
     ]
    }
   ],
   "source": [
    "from sklearn.svm import SVC  \n",
    "svm = SVC(kernel='linear') \n",
    "\n",
    "svm.fit(X_train, y_train)\n",
    "\n",
    "y_pred_svm=svm.predict(X_test)\n",
    "y_pred_svm\n",
    "\n",
    "accuracy_svm = accuracy_score(y_test, y_pred_svm)\n",
    "\n",
    "print('Accuracy:', accuracy_svm*100)\n"
   ]
  },
  {
   "cell_type": "markdown",
   "id": "fe3aec65",
   "metadata": {},
   "source": [
    "# CONFUSION MATRIX"
   ]
  },
  {
   "cell_type": "code",
   "execution_count": 52,
   "id": "86a926ff",
   "metadata": {},
   "outputs": [
    {
     "data": {
      "text/plain": [
       "array([[26,  0,  2,  7,  2],\n",
       "       [ 0, 48,  0,  1,  0],\n",
       "       [ 1,  1, 34,  1,  0],\n",
       "       [ 6,  0,  0, 38,  0],\n",
       "       [ 2,  0,  0,  0,  7]], dtype=int64)"
      ]
     },
     "execution_count": 52,
     "metadata": {},
     "output_type": "execute_result"
    }
   ],
   "source": [
    "cm = confusion_matrix(y_pred_svm, y_test)\n",
    "\n",
    "cm"
   ]
  },
  {
   "cell_type": "code",
   "execution_count": 31,
   "id": "b4926748",
   "metadata": {},
   "outputs": [
    {
     "name": "stdout",
     "output_type": "stream",
     "text": [
      "              precision    recall  f1-score   support\n",
      "\n",
      "           0       0.74      0.70      0.72        37\n",
      "           1       0.98      0.98      0.98        49\n",
      "           2       0.94      0.92      0.93        37\n",
      "           3       0.81      0.86      0.84        44\n",
      "           4       0.78      0.78      0.78         9\n",
      "\n",
      "    accuracy                           0.87       176\n",
      "   macro avg       0.85      0.85      0.85       176\n",
      "weighted avg       0.87      0.87      0.87       176\n",
      "\n"
     ]
    }
   ],
   "source": [
    "print(classification_report(y_pred_svm,y_test))"
   ]
  },
  {
   "cell_type": "markdown",
   "id": "cd10b5d4",
   "metadata": {},
   "source": [
    "# USING KFOLD CROSS VALIDATION"
   ]
  },
  {
   "cell_type": "code",
   "execution_count": 44,
   "id": "3b9cba38",
   "metadata": {},
   "outputs": [
    {
     "name": "stdout",
     "output_type": "stream",
     "text": [
      "[0.8571428571428571, 0.8857142857142857, 0.7, 0.8714285714285714, 0.8, 0.8714285714285714, 0.8571428571428571, 0.8571428571428571, 0.8428571428571429, 0.8428571428571429]\n",
      "Average accuracy after KFold cross validation :  0.8385714285714284\n"
     ]
    }
   ],
   "source": [
    "from sklearn.model_selection import cross_val_score\n",
    "acc1=[]\n",
    "accuracies = cross_val_score(estimator = svm, X = X_train, y = y_train, cv = 10)\n",
    "for x in accuracies:\n",
    "    acc1.append(x)\n",
    "print(acc1)\n",
    "print('Average accuracy after KFold cross validation : ',accuracies.mean())"
   ]
  },
  {
   "cell_type": "code",
   "execution_count": null,
   "id": "ab8e2e5c",
   "metadata": {},
   "outputs": [],
   "source": []
  },
  {
   "cell_type": "markdown",
   "id": "d7c8ced4",
   "metadata": {},
   "source": [
    " # RANDOM FOREST "
   ]
  },
  {
   "cell_type": "code",
   "execution_count": 45,
   "id": "838f75c1",
   "metadata": {},
   "outputs": [
    {
     "name": "stdout",
     "output_type": "stream",
     "text": [
      "Accuracy: 84.6590909090909\n"
     ]
    }
   ],
   "source": [
    "from sklearn.ensemble import RandomForestClassifier\n",
    "\n",
    "rf = RandomForestClassifier(n_estimators=40, random_state=40)\n",
    "\n",
    "rf.fit(X_train, y_train)\n",
    "\n",
    "y_pred_rf = rf.predict(X_test)\n",
    "\n",
    "from sklearn.metrics import accuracy_score\n",
    "print('Accuracy:', accuracy_score(y_test, y_pred_rf)*100)\n"
   ]
  },
  {
   "cell_type": "code",
   "execution_count": 51,
   "id": "bab503a4",
   "metadata": {},
   "outputs": [
    {
     "data": {
      "text/plain": [
       "array([[26,  0,  1,  9,  0],\n",
       "       [ 0, 49,  0,  0,  0],\n",
       "       [ 0,  0, 32,  1,  1],\n",
       "       [ 7,  0,  2, 37,  3],\n",
       "       [ 2,  0,  1,  0,  5]], dtype=int64)"
      ]
     },
     "execution_count": 51,
     "metadata": {},
     "output_type": "execute_result"
    }
   ],
   "source": [
    "cm1 = confusion_matrix(y_pred_rf,y_test)\n",
    "\n",
    "cm1"
   ]
  },
  {
   "cell_type": "markdown",
   "id": "fd69bcb2",
   "metadata": {},
   "source": [
    "# USING KFOLD FOR RF"
   ]
  },
  {
   "cell_type": "code",
   "execution_count": 54,
   "id": "538e28a2",
   "metadata": {},
   "outputs": [
    {
     "name": "stdout",
     "output_type": "stream",
     "text": [
      "[0.8571428571428571, 0.8857142857142857, 0.7714285714285715, 0.8142857142857143, 0.8, 0.9714285714285714, 0.9142857142857143, 0.9285714285714286, 0.8285714285714286, 0.8428571428571429]\n",
      "Average accuracy after KFold cross validation :  0.8614285714285714\n"
     ]
    }
   ],
   "source": [
    "acc2=[]\n",
    "accuracies = cross_val_score(estimator = rf, X = X_train, y = y_train, cv = 10)\n",
    "for x in accuracies:\n",
    "    acc2.append(x)\n",
    "print(acc2)\n",
    "print('Average accuracy after KFold cross validation : ',accuracies.mean())"
   ]
  },
  {
   "cell_type": "markdown",
   "id": "c5fc428b",
   "metadata": {},
   "source": [
    "# STOCHASTIC GRADIENT DESCENT"
   ]
  },
  {
   "cell_type": "code",
   "execution_count": 55,
   "id": "d5d83cda",
   "metadata": {},
   "outputs": [
    {
     "name": "stdout",
     "output_type": "stream",
     "text": [
      "Accuracy: 75.0\n"
     ]
    }
   ],
   "source": [
    "from sklearn.linear_model import SGDClassifier\n",
    "\n",
    "sgd = SGDClassifier(loss='hinge', penalty='l2', alpha=0.1, max_iter=1000, eta0=0.1, learning_rate='optimal', random_state=30)\n",
    "\n",
    "sgd.fit(X_train, y_train)\n",
    "\n",
    "y_pred_sgd = sgd.predict(X_test)\n",
    "\n",
    "accuracy_sgd = accuracy_score(y_test, y_pred_sgd)\n",
    "\n",
    "print('Accuracy:', accuracy_sgd*100)\n"
   ]
  },
  {
   "cell_type": "code",
   "execution_count": 56,
   "id": "63db52fb",
   "metadata": {},
   "outputs": [
    {
     "data": {
      "text/plain": [
       "array([[23,  0,  6,  9,  1],\n",
       "       [ 0, 48,  7,  0,  0],\n",
       "       [ 0,  1, 17,  0,  0],\n",
       "       [12,  0,  3, 36,  0],\n",
       "       [ 0,  0,  3,  2,  8]], dtype=int64)"
      ]
     },
     "execution_count": 56,
     "metadata": {},
     "output_type": "execute_result"
    }
   ],
   "source": [
    "cm2 = confusion_matrix(y_pred_sgd,y_test)\n",
    "\n",
    "cm2"
   ]
  },
  {
   "cell_type": "markdown",
   "id": "353e6303",
   "metadata": {},
   "source": [
    "# USING KFOLD FOR SGD"
   ]
  },
  {
   "cell_type": "code",
   "execution_count": 57,
   "id": "aace7894",
   "metadata": {},
   "outputs": [
    {
     "name": "stdout",
     "output_type": "stream",
     "text": [
      "[0.7142857142857143, 0.7285714285714285, 0.6714285714285714, 0.7571428571428571, 0.7142857142857143, 0.8142857142857143, 0.7, 0.7714285714285715, 0.7857142857142857, 0.6714285714285714]\n",
      "Average accuracy after KFold cross validation :  0.7328571428571429\n"
     ]
    }
   ],
   "source": [
    "acc3=[]\n",
    "accuracies = cross_val_score(estimator = sgd, X = X_train, y = y_train, cv = 10)\n",
    "for x in accuracies:\n",
    "    acc3.append(x)\n",
    "print(acc3)\n",
    "print('Average accuracy after KFold cross validation : ',accuracies.mean())"
   ]
  },
  {
   "cell_type": "markdown",
   "id": "8c6b0b86",
   "metadata": {},
   "source": [
    " # LOGISTIC REGRESSION"
   ]
  },
  {
   "cell_type": "code",
   "execution_count": 58,
   "id": "61bda1be",
   "metadata": {},
   "outputs": [
    {
     "name": "stderr",
     "output_type": "stream",
     "text": [
      "C:\\Users\\Admin\\anaconda3\\lib\\site-packages\\sklearn\\linear_model\\_sag.py:350: ConvergenceWarning: The max_iter was reached which means the coef_ did not converge\n",
      "  warnings.warn(\n"
     ]
    },
    {
     "name": "stdout",
     "output_type": "stream",
     "text": [
      "Accuracy: 86.36363636363636\n"
     ]
    }
   ],
   "source": [
    "from sklearn.linear_model import LogisticRegression\n",
    "\n",
    "lr = LogisticRegression(penalty='l2', random_state=50, max_iter=100)\n",
    "\n",
    "lr.fit(X_train, y_train)\n",
    "\n",
    "y_pred_lr = lr.predict(X_test)\n",
    "\n",
    "accuracy_lr = accuracy_score(y_test, y_pred_lr)\n",
    "\n",
    "print('Accuracy:', accuracy_lr*100)\n"
   ]
  },
  {
   "cell_type": "code",
   "execution_count": 59,
   "id": "f5970055",
   "metadata": {},
   "outputs": [
    {
     "data": {
      "text/plain": [
       "array([[23,  0,  1,  6,  1],\n",
       "       [ 0, 48,  0,  0,  0],\n",
       "       [ 1,  1, 34,  0,  0],\n",
       "       [11,  0,  0, 39,  0],\n",
       "       [ 0,  0,  1,  2,  8]], dtype=int64)"
      ]
     },
     "execution_count": 59,
     "metadata": {},
     "output_type": "execute_result"
    }
   ],
   "source": [
    "cm3 = confusion_matrix(y_pred_lr,y_test)\n",
    "\n",
    "cm3"
   ]
  },
  {
   "cell_type": "code",
   "execution_count": null,
   "id": "5536614c",
   "metadata": {},
   "outputs": [],
   "source": []
  }
 ],
 "metadata": {
  "kernelspec": {
   "display_name": "Python 3 (ipykernel)",
   "language": "python",
   "name": "python3"
  },
  "language_info": {
   "codemirror_mode": {
    "name": "ipython",
    "version": 3
   },
   "file_extension": ".py",
   "mimetype": "text/x-python",
   "name": "python",
   "nbconvert_exporter": "python",
   "pygments_lexer": "ipython3",
   "version": "3.9.13"
  }
 },
 "nbformat": 4,
 "nbformat_minor": 5
}
